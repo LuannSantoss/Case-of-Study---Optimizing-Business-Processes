{
  "nbformat": 4,
  "nbformat_minor": 0,
  "metadata": {
    "colab": {
      "name": "Optimizing_Business_Processes.ipynb",
      "provenance": [],
      "collapsed_sections": [],
      "authorship_tag": "ABX9TyMprntM3BFYX3OraptoeN4M",
      "include_colab_link": true
    },
    "kernelspec": {
      "name": "python3",
      "display_name": "Python 3"
    },
    "language_info": {
      "name": "python"
    }
  },
  "cells": [
    {
      "cell_type": "markdown",
      "metadata": {
        "id": "view-in-github",
        "colab_type": "text"
      },
      "source": [
        "<a href=\"https://colab.research.google.com/github/LuannSantoss/Case-of-Study-Optimizing-Business-Processes/blob/main/Optimizing_Business_Processes.ipynb\" target=\"_parent\"><img src=\"https://colab.research.google.com/assets/colab-badge.svg\" alt=\"Open In Colab\"/></a>"
      ]
    },
    {
      "cell_type": "markdown",
      "source": [
        "# Original Solution"
      ],
      "metadata": {
        "id": "lriLDho4axoR"
      }
    },
    {
      "cell_type": "code",
      "source": [
        "#Importing Library\n",
        "import numpy as np\n",
        "\n",
        "# Setting the parameters gamma and alpha for the Q-Learning\n",
        "gamma = 0.75\n",
        "alpha = 0.9\n",
        "\n",
        "# PART 1 - DEFINING THE ENVIRONMENT\n",
        "\n",
        "# Defining the states\n",
        "location_to_state = {'A': 0,\n",
        "                     'B': 1,\n",
        "                     'C': 2,\n",
        "                     'D': 3,\n",
        "                     'E': 4,\n",
        "                     'F': 5,\n",
        "                     'G': 6,\n",
        "                     'H': 7,\n",
        "                     'I': 8,\n",
        "                     'J': 9,\n",
        "                     'K': 10,\n",
        "                     'L': 11}\n",
        "\n",
        "\n",
        "# Defining the rewards\n",
        "R = np.array([[0,1,0,0,0,0,0,0,0,0,0,0],\n",
        "              [1,0,1,0,0,1,0,0,0,0,0,0],\n",
        "              [0,1,0,0,0,0,1,0,0,0,0,0],\n",
        "              [0,0,0,0,0,0,0,1,0,0,0,0],\n",
        "              [0,0,0,0,0,0,0,0,1,0,0,0],\n",
        "              [0,1,0,0,0,0,0,0,0,1,0,0],\n",
        "              [0,0,1,0,0,0,0,1,0,0,0,0],\n",
        "              [0,0,0,1,0,0,1,0,0,0,0,1],\n",
        "              [0,0,0,0,1,0,0,0,0,1,0,0],\n",
        "              [0,0,0,0,0,1,0,0,1,0,1,0],\n",
        "              [0,0,0,0,0,0,0,0,0,1,0,1],\n",
        "              [0,0,0,0,0,0,0,1,0,0,1,0]])\n",
        "\n",
        "# PART 2 - BUILDING THE AI SOLUTION WITH Q-LEARNING\n",
        "\n",
        "# Making a mapping from the states to the locations\n",
        "state_to_location = {state: location for location, state in location_to_state.items()}\n",
        "\n",
        "# Making a function that returns the shortest route from a starting to ending location\n",
        "def route(starting_location, ending_location):\n",
        "    R_new = np.copy(R)\n",
        "    ending_state = location_to_state[ending_location]\n",
        "    R_new[ending_state, ending_state] = 1000\n",
        "    Q = np.array(np.zeros([12,12]))\n",
        "    for i in range(1000):\n",
        "        current_state = np.random.randint(0,12)\n",
        "        playable_actions = []\n",
        "        for j in range(12):\n",
        "            if R_new[current_state, j] > 0:\n",
        "                playable_actions.append(j)\n",
        "        next_state = np.random.choice(playable_actions)\n",
        "        TD = R_new[current_state, next_state] + gamma * Q[next_state, np.argmax(Q[next_state,])] - Q[current_state, next_state]\n",
        "        Q[current_state, next_state] = Q[current_state, next_state] + alpha * TD\n",
        "    route = [starting_location]\n",
        "    next_location = starting_location\n",
        "    while (next_location != ending_location):\n",
        "        starting_state = location_to_state[starting_location]\n",
        "        next_state = np.argmax(Q[starting_state,])\n",
        "        next_location = state_to_location[next_state]\n",
        "        route.append(next_location)\n",
        "        starting_location = next_location\n",
        "    return route\n",
        "\n",
        "# PART 3 - GOING INTO PRODUCTION\n",
        "\n",
        "# Making the final function that returns the optimal route\n",
        "def best_route(starting_location, intermediary_location, ending_location):\n",
        "    return route(starting_location, intermediary_location) + route(intermediary_location, ending_location)[1:]\n",
        "\n",
        "# Printing the final route\n",
        "print('Route:')\n",
        "print(route('J','G'))\n",
        "print(' ')\n",
        "print('Route:')\n",
        "print(best_route('D', 'F', 'G'))"
      ],
      "metadata": {
        "colab": {
          "base_uri": "https://localhost:8080/"
        },
        "id": "W2ynm2UIl-wg",
        "outputId": "38d6c7d8-902a-4a75-d2d1-b645b74a03fc"
      },
      "execution_count": null,
      "outputs": [
        {
          "output_type": "stream",
          "name": "stdout",
          "text": [
            "Route:\n",
            "['J', 'F', 'B', 'C', 'G']\n",
            " \n",
            "Route:\n",
            "['D', 'H', 'G', 'C', 'B', 'F', 'B', 'C', 'G']\n"
          ]
        }
      ]
    },
    {
      "cell_type": "markdown",
      "source": [
        "## Other Scenario - Updated Solution"
      ],
      "metadata": {
        "id": "IbyGsmkaCXva"
      }
    },
    {
      "cell_type": "code",
      "source": [
        "#Importing Library\n",
        "import numpy as np\n",
        "\n",
        "# Setting the parameters gamma and alpha for the Q-Learning\n",
        "gamma = 0.75\n",
        "alpha = 0.9\n",
        "\n",
        "# PART 1 - DEFINING THE ENVIRONMENT\n",
        "\n",
        "# Defining the states\n",
        "location_to_state = {'A01': 0,\n",
        "                     'A02': 1,\n",
        "                     'A03': 2,\n",
        "                     'A04': 3,\n",
        "                     'A05': 4,\n",
        "                     'A06': 5,\n",
        "                     'A07': 6,\n",
        "                     'A08': 7,\n",
        "                     'A09': 8,\n",
        "                     'A10': 9,\n",
        "                     'A11': 10,\n",
        "                     'A12': 11,\n",
        "                     'A13': 12,\n",
        "                     'A14': 13,\n",
        "                     'A15': 14,\n",
        "                     'A16': 15,\n",
        "                     'A17': 16,\n",
        "                     'A18': 17,\n",
        "                     'A19': 18,\n",
        "                     'A20': 19,\n",
        "                     'A21': 20,\n",
        "                     'A22': 21,\n",
        "                     'A23': 22,\n",
        "                     'A24': 23,\n",
        "                     'A25': 24,\n",
        "                     'A26': 25}\n",
        "\n",
        "\n",
        "# Defining the rewards\n",
        "R = np.array([[0,1,0,0,0,0,0,0,0,0,0,0,0,0,0,0,0,0,0,0,0,0,0,0,0,0],\n",
        "              [1,0,1,0,0,0,0,0,0,0,0,0,0,0,0,0,0,0,0,0,0,0,0,0,0,0],\n",
        "              [0,1,0,1,0,0,1,0,0,0,0,0,0,0,0,0,0,0,0,0,0,0,0,0,0,0],\n",
        "              [0,0,1,0,0,0,0,1,0,0,0,0,0,0,0,0,0,0,0,0,0,0,0,0,0,0],\n",
        "              [0,0,0,0,0,1,0,0,0,0,1,0,0,0,0,0,0,0,0,0,0,0,0,0,0,0],\n",
        "              [0,0,0,0,1,0,1,0,0,0,0,0,0,0,0,0,0,0,0,0,0,0,0,0,0,0],\n",
        "              [0,0,1,0,0,1,0,1,0,0,0,0,0,0,0,0,0,0,0,0,0,0,0,0,0,0],\n",
        "              [0,0,0,1,0,0,1,0,1,0,0,0,0,0,0,0,0,0,0,0,0,0,0,0,0,0],\n",
        "              [0,0,0,0,0,0,0,1,0,1,0,0,0,0,1,0,0,0,0,0,0,0,0,0,0,0],\n",
        "              [0,0,0,0,0,0,0,0,1,0,0,0,0,0,0,1,0,0,0,0,0,0,0,0,0,0],\n",
        "              [0,0,0,0,1,0,0,0,0,0,0,0,0,0,0,0,1,0,0,0,0,0,0,0,0,0],\n",
        "              [0,0,0,0,0,0,0,0,0,0,0,0,1,0,0,0,0,0,0,0,0,0,0,0,0,0],\n",
        "              [0,0,0,0,0,0,0,0,0,0,0,1,0,1,0,0,0,0,1,0,0,0,0,0,0,0],\n",
        "              [0,0,0,0,0,0,0,0,0,0,0,0,1,0,1,0,0,0,0,1,0,0,0,0,0,0],\n",
        "              [0,0,0,0,0,0,0,0,1,0,0,0,0,1,0,0,0,0,0,0,1,0,0,0,0,0],\n",
        "              [0,0,0,0,0,0,0,0,0,1,0,0,0,0,0,0,0,0,0,0,0,0,0,0,0,0],\n",
        "              [0,0,0,0,0,0,0,0,0,0,1,0,0,0,0,0,0,0,0,0,0,1,0,0,0,0],\n",
        "              [0,0,0,0,0,0,0,0,0,0,0,0,0,0,0,0,0,0,0,0,0,0,1,0,0,0],\n",
        "              [0,0,0,0,0,0,0,0,0,0,0,0,1,0,0,0,0,0,0,0,0,0,0,1,0,0],\n",
        "              [0,0,0,0,0,0,0,0,0,0,0,0,0,1,0,0,0,0,0,0,1,0,0,0,1,0],\n",
        "              [0,0,0,0,0,0,0,0,0,0,0,0,0,0,1,0,0,0,0,1,0,0,0,0,0,1],\n",
        "              [0,0,0,0,0,0,0,0,0,0,0,0,0,0,0,0,1,0,0,0,0,0,1,0,0,0],\n",
        "              [0,0,0,0,0,0,0,0,0,0,0,0,0,0,0,0,0,1,0,0,0,1,0,1,0,0],\n",
        "              [0,0,0,0,0,0,0,0,0,0,0,0,0,0,0,0,0,0,1,0,0,0,1,0,0,0],\n",
        "              [0,0,0,0,0,0,0,0,0,0,0,0,0,0,0,0,0,0,0,1,0,0,0,0,0,0],\n",
        "              [0,0,0,0,0,0,0,0,0,0,0,0,0,0,0,0,0,0,0,0,1,0,0,0,0,0]])\n",
        "\n",
        "\n",
        "# PART 2 - BUILDING THE AI SOLUTION WITH Q-LEARNING\n",
        "\n",
        "# Making a mapping from the states to the locations\n",
        "state_to_location = {state: location for location, state in location_to_state.items()}\n",
        "\n",
        "# Making a function that returns the shortest route from a starting to ending location\n",
        "def route(starting_location, ending_location):\n",
        "    R_new = np.copy(R)\n",
        "    ending_state = location_to_state[ending_location]\n",
        "    R_new[ending_state, ending_state] = 1000\n",
        "    Q = np.array(np.zeros([26,26]))\n",
        "    for i in range(1000):\n",
        "        current_state = np.random.randint(0,26)\n",
        "        playable_actions = []\n",
        "        for j in range(26):\n",
        "            if R_new[current_state, j] > 0:\n",
        "                playable_actions.append(j)\n",
        "        next_state = np.random.choice(playable_actions)\n",
        "        TD = R_new[current_state, next_state] + gamma * Q[next_state, np.argmax(Q[next_state,])] - Q[current_state, next_state]\n",
        "        Q[current_state, next_state] = Q[current_state, next_state] + alpha * TD\n",
        "    route = [starting_location]\n",
        "    next_location = starting_location\n",
        "    while (next_location != ending_location):\n",
        "        starting_state = location_to_state[starting_location]\n",
        "        next_state = np.argmax(Q[starting_state,])\n",
        "        next_location = state_to_location[next_state]\n",
        "        route.append(next_location)\n",
        "        starting_location = next_location\n",
        "    return route\n",
        "\n",
        "# PART 3 - GOING INTO PRODUCTION\n",
        "\n",
        "# Making the final function that returns the optimal route\n",
        "\n",
        "def route_3_points(starting_location, intermediary_location, ending_location):\n",
        "    return route(starting_location, intermediary_location) + route(intermediary_location, ending_location)[1:]\n",
        "\n",
        "def route_x_points():\n",
        "    list_elements = input('Write which dots will be used to plot the route, separated by commas: ').split(',')\n",
        "    for i in range(len(list_elements)):\n",
        "      list_elements[i] = list_elements[i].strip()\n",
        "    for i in range(len(list_elements)-1):\n",
        "      print(route(list_elements[i],list_elements[i+1]))\n",
        "    return "
      ],
      "metadata": {
        "id": "tgGiIDYeCQRT"
      },
      "execution_count": null,
      "outputs": []
    },
    {
      "cell_type": "code",
      "source": [
        "route_x_points()"
      ],
      "metadata": {
        "colab": {
          "base_uri": "https://localhost:8080/"
        },
        "id": "_1fYIWLLSdY6",
        "outputId": "0fbadc9c-f9d7-4158-c0e6-3ce5a3c2c6ae"
      },
      "execution_count": null,
      "outputs": [
        {
          "output_type": "stream",
          "name": "stdout",
          "text": [
            "Write which dots will be used to plot the route, separated by commas: A06, A18,A19,  A25\n",
            "['A06', 'A05', 'A11', 'A17', 'A22', 'A23', 'A18']\n",
            "['A18', 'A23', 'A24', 'A19']\n",
            "['A19', 'A13', 'A14', 'A20', 'A25']\n"
          ]
        }
      ]
    }
  ]
}